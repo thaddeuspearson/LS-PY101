{
 "cells": [
  {
   "cell_type": "markdown",
   "metadata": {},
   "source": [
    "# Practice Problems: Easy 3\n",
    "Practice Problems for LS-PY101 Programming Foundations with Python: Basics"
   ]
  },
  {
   "cell_type": "markdown",
   "metadata": {},
   "source": [
    "---\n",
    "## Question 1\n"
   ]
  },
  {
   "cell_type": "markdown",
   "metadata": {},
   "source": [
    "Write two different ways to remove all of the elements from the following list:\n",
    "\n",
    "```python\n",
    "numbers = [1, 2, 3, 4]\n",
    "```"
   ]
  },
  {
   "cell_type": "code",
   "execution_count": null,
   "metadata": {},
   "outputs": [],
   "source": [
    "numbers = [1, 2, 3, 4]\n",
    "\n",
    "\n",
    "def remove_all_list_elems_with_clear(lst):\n",
    "    lst.clear()\n",
    "    return lst\n",
    "\n",
    "\n",
    "def remove_all_list_elems_with_pop(lst):\n",
    "    for _ in range(len(lst)):\n",
    "        lst.pop()\n",
    "    return lst\n",
    "\n",
    "\n",
    "assert remove_all_list_elems_with_clear(numbers) == []\n",
    "numbers = [1, 2, 3, 4]\n",
    "assert remove_all_list_elems_with_pop(numbers) == []"
   ]
  },
  {
   "cell_type": "markdown",
   "metadata": {},
   "source": [
    "---\n",
    "## Question 2"
   ]
  },
  {
   "cell_type": "markdown",
   "metadata": {},
   "source": [
    "What will the following code output? Try to answer without running the code.\n",
    "\n",
    "\n",
    "```python\n",
    "print([1, 2, 3] + [4, 5])\n",
    "```"
   ]
  },
  {
   "cell_type": "markdown",
   "metadata": {},
   "source": [
    "<details>\n",
    "<summary><b>Answer:</b></summary>\n",
    "<br>\n",
    "This will print [1, 2, 3, 4, 5]. The python interpreter will concatenate the two lists together, and then print the result. It is important to note that this operation does not reassign either list.\n",
    "</details>"
   ]
  },
  {
   "cell_type": "markdown",
   "metadata": {},
   "source": [
    "---\n",
    "## Question 3"
   ]
  },
  {
   "cell_type": "markdown",
   "metadata": {},
   "source": [
    "What will the following code output?\n",
    "\n",
    "```python\n",
    "str1 = \"hello there\"\n",
    "str2 = str1\n",
    "str2 = \"goodbye!\"\n",
    "print(str1)\n",
    "```"
   ]
  },
  {
   "cell_type": "markdown",
   "metadata": {},
   "source": [
    "<details>\n",
    "<summary><b>Answer:</b></summary>\n",
    "<br>\n",
    "This will print \"hello there\". On the second line, str2 and str1 both point to the same object in memory. on the third line, str2 is reassigned to a new string literal in memory (\"goodbye\"), while str1 continues to point at \"hello there\".\n",
    "</details>"
   ]
  },
  {
   "cell_type": "markdown",
   "metadata": {},
   "source": [
    "---\n",
    "## Question 4"
   ]
  },
  {
   "cell_type": "markdown",
   "metadata": {},
   "source": [
    "What will the following code output?\n",
    "\n",
    "```python\n",
    "my_list1 = [{\"first\": \"value1\"}, {\"second\": \"value2\"}, 3, 4, 5]\n",
    "my_list2 = my_list1.copy()\n",
    "my_list2[0]['first'] = 42\n",
    "print(my_list1)\n",
    "```"
   ]
  },
  {
   "cell_type": "markdown",
   "metadata": {},
   "source": [
    "<details>\n",
    "<summary><b>Answer:</b></summary>\n",
    "<br>\n",
    "This will print [{\"first\": 42}, {\"second\": \"value2\"}, 3, 4, 5]. When the python interpreter makes a copy of my_list1 on the second line, and reassigns it to my_list2, it is only a shallow copy. This means that any mutable elements within my_list2 ae still pointing at the same objects in memory that the mutable elements in my_list1 are pointing at.  When the first element at the key \"first\" is updated to 42 in my_list2, it is also updated in my_list1, as both objects in both lists point to the same memory location.\n",
    "</details>"
   ]
  },
  {
   "cell_type": "markdown",
   "metadata": {},
   "source": [
    "---\n",
    "## Question 5"
   ]
  },
  {
   "cell_type": "markdown",
   "metadata": {},
   "source": [
    "The following function unnecessarily uses two return statements to return boolean values. Can you rewrite this function so it only has one return statement and does not explicitly use either True or False?\n",
    "\n",
    "```python\n",
    "def is_color_valid(color):\n",
    "    if color == \"blue\" or color == \"green\":\n",
    "        return True\n",
    "    else:\n",
    "        return False\n",
    "```"
   ]
  },
  {
   "cell_type": "code",
   "execution_count": 13,
   "metadata": {},
   "outputs": [],
   "source": [
    "VALID_COLORS = [\"blue\", \"green\"]\n",
    "\n",
    "\n",
    "def is_color_valid_1(color):\n",
    "    return color in VALID_COLORS\n",
    "\n",
    "\n",
    "def is_color_valid_2(color):\n",
    "    return color == \"blue\" or color == \"green\"\n",
    "\n",
    "\n",
    "assert is_color_valid_1(\"blue\")\n",
    "assert not is_color_valid_1(\"scarlett\")\n",
    "assert is_color_valid_2(\"green\")\n",
    "assert not is_color_valid_1(\"hunter\")"
   ]
  }
 ],
 "metadata": {
  "kernelspec": {
   "display_name": ".venv",
   "language": "python",
   "name": "python3"
  },
  "language_info": {
   "codemirror_mode": {
    "name": "ipython",
    "version": 3
   },
   "file_extension": ".py",
   "mimetype": "text/x-python",
   "name": "python",
   "nbconvert_exporter": "python",
   "pygments_lexer": "ipython3",
   "version": "3.13.1"
  }
 },
 "nbformat": 4,
 "nbformat_minor": 2
}
