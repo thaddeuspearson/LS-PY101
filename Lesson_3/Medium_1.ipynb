{
 "cells": [
  {
   "cell_type": "markdown",
   "metadata": {},
   "source": [
    "# Practice Problems: Medium 1\n",
    "Practice Problems for LS-PY101 Programming Foundations with Python: Basics"
   ]
  },
  {
   "cell_type": "markdown",
   "metadata": {},
   "source": [
    "## Question 1\n"
   ]
  },
  {
   "cell_type": "markdown",
   "metadata": {},
   "source": [
    "Let's do some \"ASCII Art\": a stone-age form of nerd artwork from back in the days before computers had video screens.\n",
    "\n",
    "For this practice problem, write a program that outputs The Flintstones Rock! 10 times, with each line prefixed by one more hyphen than the line above it. The output should start out like this:\n",
    "\n",
    "```python\n",
    "    -The Flintstones Rock!\n",
    "    --The Flintstones Rock!\n",
    "    ---The Flintstones Rock!\n",
    "        ...\n",
    "```"
   ]
  },
  {
   "cell_type": "code",
   "execution_count": 6,
   "metadata": {},
   "outputs": [
    {
     "name": "stdout",
     "output_type": "stream",
     "text": [
      "-The Flintstones Rock!\n",
      "--The Flintstones Rock!\n",
      "---The Flintstones Rock!\n",
      "----The Flintstones Rock!\n",
      "-----The Flintstones Rock!\n",
      "------The Flintstones Rock!\n",
      "-------The Flintstones Rock!\n",
      "--------The Flintstones Rock!\n",
      "---------The Flintstones Rock!\n",
      "----------The Flintstones Rock!\n"
     ]
    }
   ],
   "source": [
    "flintstones_str = \"The Flintstones Rock!\"\n",
    "\n",
    "\n",
    "def display_flintstones_ascii(prompt_str, repeat_num_times):\n",
    "    for n in range(1, repeat_num_times + 1):\n",
    "        print(f\"{\"-\" * n}{prompt_str}\")\n",
    "\n",
    "\n",
    "display_flintstones_ascii(flintstones_str, 10)"
   ]
  },
  {
   "cell_type": "markdown",
   "metadata": {},
   "source": [
    "## Question 2"
   ]
  },
  {
   "cell_type": "markdown",
   "metadata": {},
   "source": [
    "Alan wrote the following function, which was intended to return all of the factors of number:\n",
    "\n",
    "```python\n",
    "def factors(number):\n",
    "    divisor = number\n",
    "    result = []\n",
    "    while divisor != 0:\n",
    "        if number % divisor == 0:\n",
    "            result.append(number // divisor)\n",
    "        divisor -= 1\n",
    "    return result\n",
    "```\n",
    "Alyssa noticed that this code would fail when the input is a negative number, and asked Alan to change the loop. How can he make this work? Note that we're not looking to find the factors for negative numbers, but we want to handle it gracefully instead of going into an infinite loop.\n",
    "\n",
    "**Bonus Question**: What is the purpose of `number % divisor == 0` in that code?"
   ]
  },
  {
   "cell_type": "code",
   "execution_count": null,
   "metadata": {},
   "outputs": [],
   "source": [
    "def factors(number):\n",
    "    divisor = number\n",
    "    result = []\n",
    "    while divisor > 0:\n",
    "        if number % divisor == 0:\n",
    "            result.append(number // divisor)\n",
    "        divisor -= 1\n",
    "    return result\n",
    "\n",
    "\n",
    "assert factors(20) == [1, 2, 4, 5, 10, 20]\n",
    "assert factors(-10) == []"
   ]
  },
  {
   "cell_type": "markdown",
   "metadata": {},
   "source": [
    "<details>\n",
    "<summary>Bonus Answer</summary>\n",
    "<br>\n",
    "\n",
    "`number % divisor == 0` is using the modulo operator to perform a modulus operation on the number with the divisor. This will return the remainder of `number // divisor`. if the result of that operation is 0, then divisor has evenly divided number, and is a factor if it by definition.\n",
    "</details>"
   ]
  },
  {
   "cell_type": "markdown",
   "metadata": {},
   "source": [
    "## Question 3"
   ]
  },
  {
   "cell_type": "markdown",
   "metadata": {},
   "source": [
    "Alyssa was asked to write an implementation of a rolling buffer. You can add and remove elements from a rolling buffer. However, once the buffer becomes full, any new elements will displace the oldest elements in the buffer.\n",
    "\n",
    "She wrote two implementations of the code for adding elements to the buffer:\n",
    "\n",
    "```python\n",
    "    def add_to_rolling_buffer1(buffer, max_buffer_size, new_element):\n",
    "        buffer.append(new_element)\n",
    "        if len(buffer) > max_buffer_size:\n",
    "            buffer.pop(0)\n",
    "        return buffer\n",
    "\n",
    "    def add_to_rolling_buffer2(buffer, max_buffer_size, new_element):\n",
    "        buffer = buffer + [new_element]\n",
    "        if len(buffer) > max_buffer_size:\n",
    "            buffer.pop(0)\n",
    "        return buffer\n",
    "```\n",
    "\n",
    "What is the key difference between these implementations?\n"
   ]
  },
  {
   "cell_type": "markdown",
   "metadata": {},
   "source": [
    "<details>\n",
    "<summary>Answer</summary>\n",
    "<br>\n",
    "\n",
    "In the first function, buffer has the `append` method called in order to add new values to it. With this implementation, there is no need to reassign buffer, as the method is simply modifying it. However in the second implementation, buffer is concatenated with a new list containing the new element. since list concatenation does not modify either list on both sides of the `+` operator, it is necessary to reassign the value of buffer to the result of the operation in order to add the new values to the buffer list.\n",
    "</details>"
   ]
  },
  {
   "cell_type": "markdown",
   "metadata": {},
   "source": [
    "## Question 4"
   ]
  },
  {
   "cell_type": "markdown",
   "metadata": {},
   "source": [
    "What will the following two lines of code output?\n",
    "\n",
    "```python\n",
    "    print(0.3 + 0.6)\n",
    "    print(0.3 + 0.6 == 0.9)\n",
    "```"
   ]
  },
  {
   "cell_type": "markdown",
   "metadata": {},
   "source": [
    "<details>\n",
    "<summary>Answer</summary>\n",
    "<br>\n",
    "This will print 0.8999999999999999 and False. Floating point numbers do not have exact precision, and need to be handled very carefully in python.\n",
    "</details>"
   ]
  },
  {
   "cell_type": "markdown",
   "metadata": {},
   "source": [
    "## Question 5"
   ]
  },
  {
   "cell_type": "markdown",
   "metadata": {},
   "source": [
    "What do you think the following code will output?\n",
    "\n",
    "```python\n",
    "    nan_value = float(\"nan\")\n",
    "    print(nan_value == float(\"nan\"))\n",
    "```\n",
    "\n",
    "**Bonus**: How can you reliably test if a value is nan?"
   ]
  },
  {
   "cell_type": "markdown",
   "metadata": {},
   "source": [
    "<details>\n",
    "<summary>Answer</summary>\n",
    "<br>\n",
    "\n",
    "This will print False. `float(\"nan\")` is a float that stands for \"not a number\". It is the only value in python that is not equal to itself. To reliably test if a value is nan, use the math module and `isnan` method `math.isnan()`\n",
    "</details>"
   ]
  },
  {
   "cell_type": "markdown",
   "metadata": {},
   "source": [
    "## Question 6"
   ]
  },
  {
   "cell_type": "markdown",
   "metadata": {},
   "source": [
    "What is the output of the following code?\n",
    "\n",
    "```python\n",
    "    answer = 42\n",
    "\n",
    "    def mess_with_it(some_number):\n",
    "        return some_number + 8\n",
    "\n",
    "    new_answer = mess_with_it(answer)\n",
    "\n",
    "    print(answer - 8)\n",
    "```"
   ]
  },
  {
   "cell_type": "markdown",
   "metadata": {},
   "source": [
    "<details>\n",
    "<summary>Answer</summary>\n",
    "<br>\n",
    "\n",
    "This will print 34. When `mess_with_it` is called with `answer` as an argument, the function-scoped parameter some_number is given the value of 42. The function then performs an addition operation, and adds 8 to the value of some_number, and returns the result, which is then saved in new_answer. \n",
    "\n",
    "The original variable `answer` is never modified as it is never reassigned, and since ints are immutable, this would be the only way to modify the value of answer.\n",
    "\n",
    "When the print statement executes, a subtraction operation, and subtracts 8 from 42, resulting in 34, which is printed to the console.\n",
    "</details>"
   ]
  },
  {
   "cell_type": "markdown",
   "metadata": {},
   "source": [
    "## Question 7"
   ]
  },
  {
   "cell_type": "markdown",
   "metadata": {},
   "source": [
    "One day, Spot was playing with the Munster family's home computer, and he wrote a small program to mess with their demographic data:\n",
    "\n",
    "```python\n",
    "    munsters = {\n",
    "        \"Herman\": {\"age\": 32, \"gender\": \"male\"},\n",
    "        \"Lily\": {\"age\": 30, \"gender\": \"female\"},\n",
    "        \"Grandpa\": {\"age\": 402, \"gender\": \"male\"},\n",
    "        \"Eddie\": {\"age\": 10, \"gender\": \"male\"},\n",
    "        \"Marilyn\": {\"age\": 23, \"gender\": \"female\"},\n",
    "    }\n",
    "\n",
    "    def mess_with_demographics(demo_dict):\n",
    "        for key, value in demo_dict.items():\n",
    "            value[\"age\"] += 42\n",
    "            value[\"gender\"] = \"other\"\n",
    "```\n",
    "\n",
    "After writing this function, he typed the following code:\n",
    "\n",
    "```python\n",
    "    mess_with_demographics(munsters)\n",
    "```\n",
    "\n",
    "Before Grandpa could stop him, Spot hit the Enter key with his tail. Did the family's data get ransacked? Why or why not?"
   ]
  },
  {
   "cell_type": "markdown",
   "metadata": {},
   "source": [
    "<details>\n",
    "<summary>Answer</summary>\n",
    "<br>\n",
    "\n",
    "Yes. In Python, dictionaries are passed by reference, and dictionaries are mutable types. When the `mess_with_demographics` function was called, the addresses of the nested dictionaries within `munsters` were pointing to the actual `munsters` nested dictionaries. The loop then mutated each original dictionary found at each key, and ransacked the family data.\n",
    "</details>"
   ]
  },
  {
   "cell_type": "markdown",
   "metadata": {},
   "source": [
    "## Question 8"
   ]
  },
  {
   "cell_type": "markdown",
   "metadata": {},
   "source": [
    "Function and method calls can take expressions as arguments. Suppose we define a function named rps as follows, which follows the classic rules of the rock-paper-scissors game, but with a slight twist: in the event of a tie, it just returns the choice made by both players.\n",
    "\n",
    "\n",
    "```python\n",
    "    def rps(fist1, fist2):\n",
    "    if fist1 == \"rock\":\n",
    "        return \"paper\" if fist2 == \"paper\" else \"rock\"\n",
    "    elif fist1 == \"paper\":\n",
    "        return \"scissors\" if fist2 == \"scissors\" else \"paper\"\n",
    "    else:\n",
    "        return \"rock\" if fist2 == \"rock\" else \"scissors\"\n",
    "```\n",
    "What does the following code output?\n",
    "\n",
    "```python\n",
    "print(rps(rps(rps(\"rock\", \"paper\"), rps(\"rock\", \"scissors\")), \"rock\"))\n",
    "```"
   ]
  },
  {
   "cell_type": "markdown",
   "metadata": {},
   "source": [
    "<details>\n",
    "<summary>Answer</summary>\n",
    "<br>\n",
    "\n",
    "This returns `\"paper\"`.\n",
    "\n",
    "**Order of Execution**:\n",
    "\n",
    "1: `rps(\"rock\", \"paper\")` ==> `\"paper\"` and `rps(\"rock\", \"scissors\")` ==> `\"rock\"`\n",
    "\n",
    "2: `rps(\"paper\", \"rock\")` ==> `\"paper\"`\n",
    "\n",
    "3: `rps(\"paper\", \"rock\")` ==> `\"paper\"`\n",
    "</details>"
   ]
  },
  {
   "cell_type": "markdown",
   "metadata": {},
   "source": [
    "## Question 9"
   ]
  },
  {
   "cell_type": "markdown",
   "metadata": {},
   "source": [
    "Consider these two simple functions:\n",
    "\n",
    "```python\n",
    "   def foo(param=\"no\"):\n",
    "    return \"yes\"\n",
    "\n",
    "    def bar(param=\"no\"):\n",
    "        return (param == \"no\") and (foo() or \"no\")\n",
    "```\n",
    "What will the following function invocation return?\n",
    "\n",
    "```python\n",
    "    bar(foo())\n",
    "```"
   ]
  },
  {
   "cell_type": "markdown",
   "metadata": {},
   "source": [
    "<details>\n",
    "<summary>Answer</summary>\n",
    "<br>\n",
    "\n",
    "This will return `False`.\n",
    "\n",
    "**Order of Execution**:\n",
    "\n",
    "1. `foo()` returns `\"yes\"` to `bar`.\n",
    "\n",
    "2. `param` is set to the value of `\"yes\"` in this execution of `bar`.\n",
    "\n",
    "3. `(param == \"no\")` returns `False`, which stops the execution of the `and` expression, and returns `False`.\n",
    "\n",
    "</details>"
   ]
  },
  {
   "cell_type": "markdown",
   "metadata": {},
   "source": [
    "## Question 10"
   ]
  },
  {
   "cell_type": "markdown",
   "metadata": {},
   "source": [
    "In Python, every object has a unique identifier that can be accessed using the id() function. This function returns the identity of an object, which is guaranteed to be unique for the object's lifetime. For certain basic immutable data types like short strings or integers, Python might reuse the memory address for objects with the same value. This is known as \"interning\".\n",
    "\n",
    "Given the following code, predict the output:\n",
    "```python\n",
    "    a = 42\n",
    "    b = 42\n",
    "    c = a\n",
    "\n",
    "    print(id(a) == id(b) == id(c))\n",
    "```"
   ]
  },
  {
   "cell_type": "markdown",
   "metadata": {},
   "source": [
    "<details>\n",
    "<summary>Answer</summary>\n",
    "<br>\n",
    "\n",
    "This will print `True`. Since 42 is less than 256, both `a` and `b` point to the same location in memory where 42 is. Then `c` is set to the value of `a`, so it is pointing to the same memory location as `a`. This means all thre variables have the same memory address, or `id` value.\n",
    "\n",
    "</details>"
   ]
  }
 ],
 "metadata": {
  "kernelspec": {
   "display_name": ".venv",
   "language": "python",
   "name": "python3"
  },
  "language_info": {
   "codemirror_mode": {
    "name": "ipython",
    "version": 3
   },
   "file_extension": ".py",
   "mimetype": "text/x-python",
   "name": "python",
   "nbconvert_exporter": "python",
   "pygments_lexer": "ipython3",
   "version": "3.13.1"
  }
 },
 "nbformat": 4,
 "nbformat_minor": 2
}
