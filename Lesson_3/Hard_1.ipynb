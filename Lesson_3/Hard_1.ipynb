{
 "cells": [
  {
   "cell_type": "markdown",
   "metadata": {},
   "source": [
    "# Practice Problems: Hard 1\n",
    "Practice Problems for LS-PY101 Programming Foundations with Python: Basics"
   ]
  },
  {
   "cell_type": "markdown",
   "metadata": {},
   "source": [
    "---\n",
    "## Question 1\n"
   ]
  },
  {
   "cell_type": "markdown",
   "metadata": {},
   "source": [
    "Will the following functions return the same results?\n",
    "\n",
    "```python\n",
    "def first():\n",
    "    return {\n",
    "        'prop1': \"hi there\",\n",
    "    }\n",
    "\n",
    "def second():\n",
    "    return\n",
    "    {\n",
    "        'prop1': \"hi there\",\n",
    "    }\n",
    "\n",
    "print(first())\n",
    "print(second())\n",
    "```"
   ]
  },
  {
   "cell_type": "markdown",
   "metadata": {},
   "source": [
    "<details>\n",
    "<summary><b>Answer:</b></summary>\n",
    "\n",
    "<br>\n",
    "\n",
    "No. `first` will return the dictionary literal `{'prop1': \"hi there\"}` and `second` will return `None`, as the dictionary is written on the lines after the return statement, and are never executed by the python interpreter.\n",
    "</details>"
   ]
  },
  {
   "cell_type": "markdown",
   "metadata": {},
   "source": [
    "---\n",
    "## Question 2"
   ]
  },
  {
   "cell_type": "markdown",
   "metadata": {},
   "source": [
    "What does the last line in the following code output?\n",
    "\n",
    "```python\n",
    "dictionary = {'first': [1]}\n",
    "num_list = dictionary['first']\n",
    "num_list.append(2)\n",
    "\n",
    "print(num_list)\n",
    "print(dictionary)\n",
    "```"
   ]
  },
  {
   "cell_type": "markdown",
   "metadata": {},
   "source": [
    "<details>\n",
    "<summary><b>Answer:</b></summary>\n",
    "<br>\n",
    "\n",
    "This will print `{'first': [1, 2]}` on the last line. In Python, when mutable objects are assigned to a variable, it is passed by reference. In this case, since num_list is assigned to the dictionary found at the `first` key in `dictionary`, it now holds the address of that exact list. When 2 is appended on the third line, it is appended to the same dictionary that is pointed at in `dictionary` as well.\n",
    "</details>"
   ]
  },
  {
   "cell_type": "markdown",
   "metadata": {},
   "source": [
    "---\n",
    "## Question 3"
   ]
  },
  {
   "cell_type": "markdown",
   "metadata": {},
   "source": [
    "Given the following similar sets of code, what will each code snippet print?\n",
    "\n",
    "#### A:\n",
    "```python\n",
    "def mess_with_vars(one, two, three):\n",
    "    one = two\n",
    "    two = three\n",
    "    three = one\n",
    "\n",
    "one = [\"one\"]\n",
    "two = [\"two\"]\n",
    "three = [\"three\"]\n",
    "\n",
    "mess_with_vars(one, two, three)\n",
    "\n",
    "print(f\"one is: {one}\")\n",
    "print(f\"two is: {two}\")\n",
    "print(f\"three is: {three}\")\n",
    "```\n",
    "<br>\n",
    "\n",
    "<details>\n",
    "<summary><b>Answer A:</b></summary>\n",
    "<br>\n",
    "\n",
    "This will print:\n",
    "\n",
    "```python\n",
    "\"one is: ['one']\"\n",
    "\"two is: ['two']\"\n",
    "\"three is:['three']\"\n",
    "```\n",
    "\n",
    "Since the paramenters `one`, `two`, and `three` within the function are shadowing the same varibles in the global scope, it might seem like these variables would be reassigned to the values they get reassigned to in `mess_with_vars`, but this is not the case.\n",
    "</details>\n",
    "\n",
    "<br>\n",
    "\n",
    "---\n",
    "\n",
    "#### B:\n",
    "\n",
    "```python\n",
    "def mess_with_vars(one, two, three):\n",
    "    one = [\"two\"]\n",
    "    two = [\"three\"]\n",
    "    three = [\"one\"]\n",
    "\n",
    "one = [\"one\"]\n",
    "two = [\"two\"]\n",
    "three = [\"three\"]\n",
    "\n",
    "mess_with_vars(one, two, three)\n",
    "\n",
    "print(f\"one is: {one}\")\n",
    "print(f\"two is: {two}\")\n",
    "print(f\"three is: {three}\")\n",
    "```\n",
    "<br>\n",
    "<details>\n",
    "<summary><b>Answer B:</b></summary>\n",
    "\n",
    "<br>\n",
    "\n",
    "This will print:\n",
    "\n",
    "```python\n",
    "\"one is: ['one']\"\n",
    "\"two is: ['two']\"\n",
    "\"three is:['three']\"\n",
    "```\n",
    "\n",
    "As in the previous example A, the paramenters `one`, `two`, and `three` within the function are shadowing the same varibles in the global scope, it might seem like these variables would be reassigned to the values they get reassigned to in `mess_with_vars`, but this is not the case.\n",
    "</details>\n",
    "\n",
    "<br>\n",
    "\n",
    "---\n",
    "\n",
    "#### C:\n",
    "\n",
    "```python\n",
    "def mess_with_vars(one, two, three):\n",
    "    one[0] = \"two\"\n",
    "    two[0] = \"three\"\n",
    "    three[0] = \"one\"\n",
    "\n",
    "one = [\"one\"]\n",
    "two = [\"two\"]\n",
    "three = [\"three\"]\n",
    "\n",
    "mess_with_vars(one, two, three)\n",
    "\n",
    "print(f\"one is: {one}\")\n",
    "print(f\"two is: {two}\")\n",
    "print(f\"three is: {three}\")\n",
    "```\n",
    "\n",
    "<br>\n",
    "\n",
    "<details>\n",
    "<summary><b>Answer C:</b></summary>\n",
    "<br>\n",
    "\n",
    "This will print:\n",
    "\n",
    "```python\n",
    "\"one is: ['two']\"\n",
    "\"two is: ['three']\"\n",
    "\"three is:['one']\"\n",
    "```\n",
    "\n",
    "In python, mutable types are passed by reference within the context of a function. when `one`, `two`, and `three` are passed into the `mess_with_vars` function, and assigned to the parameters that shadow their global variable counterparts, those parameters point to the same lists in memory. When they are modified by accessing their 0th indexes, the values contined *within* those lists are mutated, After the function execution is completed, the global variables are used in the print statements are pointing to the same lists that have been modified.\n",
    "</details>"
   ]
  },
  {
   "cell_type": "markdown",
   "metadata": {},
   "source": [
    "---\n",
    "## Question 4"
   ]
  },
  {
   "cell_type": "markdown",
   "metadata": {},
   "source": [
    "Ben was tasked to write a simple Python function to determine whether an input string is an IP address using 4 dot-separated numbers, e.g., 10.4.5.11.\n",
    "\n",
    "Alyssa supplied Ben with a function named `is_an_ip_number`. It determines whether a string is a numeric string between 0 and 255 as required for IP numbers and asked Ben to use it. Here's the code that Ben wrote:\n",
    "\n",
    "```python\n",
    "def is_dot_separated_ip_address(input_string):\n",
    "    dot_separated_words = input_string.split(\".\")\n",
    "    while len(dot_separated_words) > 0:\n",
    "        word = dot_separated_words.pop()\n",
    "        if not is_an_ip_number(word):\n",
    "            break\n",
    "\n",
    "    return True\n",
    "```\n",
    "\n",
    "Alyssa reviewed Ben's code and said, \"It's a good start, but you missed a few things. You're not returning a false condition, and you're not handling the case when the input string has more or less than 4 components, e.g., 4.5.5 or 1.2.3.4.5: both those values should be invalid.\"\n",
    "\n",
    "Help Ben fix his code."
   ]
  },
  {
   "cell_type": "code",
   "execution_count": 5,
   "metadata": {},
   "outputs": [],
   "source": [
    "\n",
    "def is_an_ip_number(str):\n",
    "    if str.isdigit():\n",
    "        number = int(str)\n",
    "        return 0 <= number <= 255\n",
    "    return False\n",
    "\n",
    "\n",
    "def is_dot_separated_ip_address(input_string):\n",
    "    dot_separated_numbers = input_string.split(\".\")\n",
    "    if len(dot_separated_numbers) == 4:\n",
    "        for number in dot_separated_numbers:\n",
    "            if not is_an_ip_number(number):\n",
    "                return False\n",
    "        return True\n",
    "    return False\n",
    "\n",
    "\n",
    "assert is_dot_separated_ip_address(\"255.255.255.255\")\n",
    "assert is_dot_separated_ip_address(\"169.254.169.254\")\n",
    "assert is_dot_separated_ip_address(\"0.0.0.0\")\n",
    "assert not is_dot_separated_ip_address(\"1.2.3\")\n",
    "assert not is_dot_separated_ip_address(\"1.2.3.4.5\")"
   ]
  },
  {
   "cell_type": "markdown",
   "metadata": {},
   "source": [
    "---\n",
    "## Question 5"
   ]
  },
  {
   "cell_type": "markdown",
   "metadata": {},
   "source": [
    "What do you expect to happen when the `greeting` variable is referenced in the last line of the code below?\n",
    "\n",
    "```python\n",
    "if False:\n",
    "    greeting = \"hello world\"\n",
    "\n",
    "print(greeting)\n",
    "```"
   ]
  },
  {
   "cell_type": "markdown",
   "metadata": {},
   "source": [
    "<details>\n",
    "<summary><b>Answer:</b></summary>\n",
    "<br>\n",
    "\n",
    "This will raise a `NameError`, because although `greeting` is defined above where it is referenced, the initialization of `greeting` is locked behind a conditional statement which will never evaluate to `True`. This means that `greeting` will never be initialized.\n",
    "</details>"
   ]
  }
 ],
 "metadata": {
  "kernelspec": {
   "display_name": ".venv",
   "language": "python",
   "name": "python3"
  },
  "language_info": {
   "codemirror_mode": {
    "name": "ipython",
    "version": 3
   },
   "file_extension": ".py",
   "mimetype": "text/x-python",
   "name": "python",
   "nbconvert_exporter": "python",
   "pygments_lexer": "ipython3",
   "version": "3.13.1"
  }
 },
 "nbformat": 4,
 "nbformat_minor": 2
}
