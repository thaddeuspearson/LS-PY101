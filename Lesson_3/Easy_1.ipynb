{
 "cells": [
  {
   "cell_type": "markdown",
   "metadata": {},
   "source": [
    "# Practice Problems: Easy 1\n",
    "Practice Problems for LS-PY101 Programming Foundations with Python: Basics"
   ]
  },
  {
   "cell_type": "markdown",
   "metadata": {},
   "source": [
    "---\n",
    "## Question 1\n",
    "Will the code below raise an error?"
   ]
  },
  {
   "cell_type": "code",
   "execution_count": null,
   "metadata": {},
   "outputs": [],
   "source": [
    "numbers = [1, 2, 3]\n",
    "numbers[6] = 5"
   ]
  },
  {
   "cell_type": "markdown",
   "metadata": {},
   "source": [
    "<details>\n",
    "<summary><b>Answer:</b></summary>\n",
    "<br>\n",
    "\n",
    "Yes. This will raise an `IndexError`. On the second line, we are trying to access the 6th index from the numbers list. However, there are only 3 elements in `numbers`, which means the last index of the list would be 2. The python interpreter raises an `IndexError` when trying to access an index that is out of range.\n",
    "</details>"
   ]
  },
  {
   "cell_type": "markdown",
   "metadata": {},
   "source": [
    "---\n",
    "## Question 2"
   ]
  },
  {
   "cell_type": "markdown",
   "metadata": {},
   "source": [
    "How can you determine whether a given string ends with an exclamation mark (!)? Write some code that prints True or False depending on whether the string ends with an exclamation mark.\n",
    "\n",
    "\n",
    "```python\n",
    "str1 = \"Come over here!\"  # True\n",
    "str2 = \"What's up, Doc?\"  # False\n",
    "```"
   ]
  },
  {
   "cell_type": "code",
   "execution_count": 8,
   "metadata": {},
   "outputs": [],
   "source": [
    "str1 = \"Come over here!\"\n",
    "str2 = \"What's up, Doc?\"\n",
    "\n",
    "\n",
    "def ends_with_exclaimation_mark(string):\n",
    "    return string[-1] == '!'\n",
    "\n",
    "\n",
    "assert ends_with_exclaimation_mark(str1)\n",
    "assert not ends_with_exclaimation_mark(str2)"
   ]
  },
  {
   "cell_type": "markdown",
   "metadata": {},
   "source": [
    "---\n",
    "## Question 3"
   ]
  },
  {
   "cell_type": "markdown",
   "metadata": {},
   "source": [
    "Starting with the string:\n",
    "\n",
    "```python\n",
    "famous_words = \"seven years ago...\"\n",
    "```\n",
    "\n",
    "Show two different ways to create a new string with `\"Four score and \"` prepended to the front of the string referenced by `famous_words`."
   ]
  },
  {
   "cell_type": "code",
   "execution_count": 10,
   "metadata": {},
   "outputs": [],
   "source": [
    "famous_words = \"seven years ago...\"\n",
    "speech_start = \"Four score and \"\n",
    "\n",
    "# Method 1: string concatenation with a function\n",
    "def concatenate(str_1, str_2):\n",
    "    return str_1 + str_2\n",
    "\n",
    "\n",
    "# Method 2: string interpolation with a function\n",
    "def interpolate(str_1, str_2):\n",
    "    return f\"{str_1}{str_2}\"\n",
    "\n",
    "\n",
    "full_phrase = speech_start + famous_words\n",
    "assert concatenate(speech_start, famous_words) == full_phrase\n",
    "assert interpolate(speech_start, famous_words) == full_phrase"
   ]
  },
  {
   "cell_type": "markdown",
   "metadata": {},
   "source": [
    "---\n",
    "## Question 4"
   ]
  },
  {
   "cell_type": "markdown",
   "metadata": {},
   "source": [
    "Using the following string, print a string that contains the same value, but using all lowercase letters except for the first character, which should be capitalized.\n",
    "\n",
    "```python\n",
    "munsters_description = \"the Munsters are CREEPY and Spooky.\"\n",
    "# => 'The munsters are creepy and spooky.'\n",
    "```"
   ]
  },
  {
   "cell_type": "code",
   "execution_count": 15,
   "metadata": {},
   "outputs": [],
   "source": [
    "munsters_description = \"the Munsters are CREEPY and Spooky.\"\n",
    "\n",
    "\n",
    "def format_sentence(sentence):\n",
    "    return f\"{sentence[0].upper()}{sentence[1:].lower()}\"\n",
    "\n",
    "\n",
    "assert format_sentence(munsters_description) == munsters_description.capitalize()"
   ]
  },
  {
   "cell_type": "markdown",
   "metadata": {},
   "source": [
    "---\n",
    "## Question 5"
   ]
  },
  {
   "cell_type": "markdown",
   "metadata": {},
   "source": [
    "Starting with the string:\n",
    "\n",
    "```python\n",
    "munsters_description = \"The Munsters are creepy and spooky.\"\n",
    "```\n",
    "\n",
    "print the string with the case of all letters swapped:\n",
    "\n",
    "```python\n",
    "\"tHE mUNSTERS ARE CREEPY AND SPOOKY.\"\n",
    "```"
   ]
  },
  {
   "cell_type": "code",
   "execution_count": null,
   "metadata": {},
   "outputs": [],
   "source": [
    "munsters_description = \"The Munsters are creepy and spooky.\"\n",
    "\n",
    "def swap_char_case(sentence):\n",
    "    return_sentence = \"\"\n",
    "\n",
    "    for char in sentence:\n",
    "        \n",
    "        if char.isupper():\n",
    "            return_sentence += char.lower()\n",
    "        elif char.islower():\n",
    "            return_sentence += char.upper()\n",
    "        else:\n",
    "            return_sentence += char\n",
    "    \n",
    "    return return_sentence\n",
    "\n",
    "\n",
    "assert swap_char_case(munsters_description) == munsters_description.swapcase()"
   ]
  },
  {
   "cell_type": "markdown",
   "metadata": {},
   "source": [
    "---\n",
    "## Question 6"
   ]
  },
  {
   "cell_type": "markdown",
   "metadata": {},
   "source": [
    "Determine whether the name Dino appears in the strings below -- check each string separately:\n",
    "\n",
    "```python\n",
    "str1 = \"Few things in life are as important as house training your pet dinosaur.\"\n",
    "str2 = \"Fred and Wilma have a pet dinosaur named Dino.\"\n",
    "```\n"
   ]
  },
  {
   "cell_type": "code",
   "execution_count": null,
   "metadata": {},
   "outputs": [],
   "source": [
    "str1 = \"Few things in life are as important as house training your pet dinosaur.\"\n",
    "str2 = \"Fred and Wilma have a pet dinosaur named Dino.\"\n",
    "\n",
    "\n",
    "def is_word_in_sentence(word, sentence):\n",
    "    return word in sentence\n",
    "\n",
    "\n",
    "assert not is_word_in_sentence(\"Dino\", str1)\n",
    "assert is_word_in_sentence(\"Dino\", str2)"
   ]
  },
  {
   "cell_type": "markdown",
   "metadata": {},
   "source": [
    "---\n",
    "## Question 7"
   ]
  },
  {
   "cell_type": "markdown",
   "metadata": {},
   "source": [
    "How can we add the family pet, \"Dino\", to the following list?\n",
    "\n",
    "\n",
    "```python\n",
    "flintstones = [\"Fred\", \"Barney\", \"Wilma\", \"Betty\", \"Bambam\", \"Pebbles\"]\n",
    "```"
   ]
  },
  {
   "cell_type": "code",
   "execution_count": null,
   "metadata": {},
   "outputs": [],
   "source": [
    "flintstones = [\"Fred\", \"Barney\", \"Wilma\", \"Betty\", \"Bambam\", \"Pebbles\"]\n",
    "\n",
    "\n",
    "def add_elem_to_list(elem, lst):\n",
    "    lst.append(elem)\n",
    "    return lst\n",
    "\n",
    "\n",
    "assert add_elem_to_list(\"Dino\", flintstones) == [\"Fred\", \"Barney\", \"Wilma\", \n",
    "                                                 \"Betty\", \"Bambam\", \"Pebbles\", \n",
    "                                                 \"Dino\"]"
   ]
  },
  {
   "cell_type": "markdown",
   "metadata": {},
   "source": [
    "---\n",
    "## Question 8"
   ]
  },
  {
   "cell_type": "markdown",
   "metadata": {},
   "source": [
    "In the previous problem, our first answer added 'Dino' to the list like this:\n",
    "\n",
    "\n",
    "```python\n",
    "flintstones = [\"Fred\", \"Barney\", \"Wilma\", \"Betty\", \"Bambam\", \"Pebbles\"]\n",
    "flintstones.append(\"Dino\")\n",
    "```\n",
    "\n",
    "How can we add multiple items to our list (e.g., `'Dino'` and `'Hoppy'`)? Replace the call to append with another method invocation."
   ]
  },
  {
   "cell_type": "code",
   "execution_count": 30,
   "metadata": {},
   "outputs": [],
   "source": [
    "flintstones = [\"Fred\", \"Barney\", \"Wilma\", \"Betty\", \"Bambam\", \"Pebbles\"]\n",
    "\n",
    "\n",
    "def extend_list(list_to_add, list_to_extend):\n",
    "    list_to_extend.extend(list_to_add)\n",
    "    return list_to_extend\n",
    "\n",
    "\n",
    "assert extend_list([\"Dino\", \"Hoppy\"], flintstones) == [\"Fred\", \"Barney\", \"Wilma\", \n",
    "                                                       \"Betty\", \"Bambam\", \"Pebbles\",\n",
    "                                                       \"Dino\", \"Hoppy\"]"
   ]
  },
  {
   "cell_type": "markdown",
   "metadata": {},
   "source": [
    "---\n",
    "## Question 9"
   ]
  },
  {
   "cell_type": "markdown",
   "metadata": {},
   "source": [
    "Print a new version of the sentence given by advice that ends just before the word house. Don't worry about spaces or punctuation: remove everything starting from the beginning of house to the end of the sentence.\n",
    "\n",
    "```python\n",
    "advice = \"Few things in life are as important as house training your pet dinosaur.\"\n",
    "\n",
    "# Expected output:\n",
    "# \"Few things in life are as important as \"\n",
    "```"
   ]
  },
  {
   "cell_type": "code",
   "execution_count": 34,
   "metadata": {},
   "outputs": [],
   "source": [
    "advice = \"Few things in life are as important as house training your pet dinosaur.\"\n",
    "\n",
    "\n",
    "def truncate_sentence_at_word(sentence, word):\n",
    "    return sentence[:sentence.index(word)]\n",
    "\n",
    "\n",
    "assert truncate_sentence_at_word(advice, \"house\") == advice.split(\"house\")[0]"
   ]
  },
  {
   "cell_type": "markdown",
   "metadata": {},
   "source": [
    "---\n",
    "## Question 10"
   ]
  },
  {
   "cell_type": "markdown",
   "metadata": {},
   "source": [
    "Print the following string with the word important replaced by urgent:\n",
    "\n",
    "```python\n",
    "advice = \"Few things in life are as important as house training your pet dinosaur.\"\n",
    "\n",
    "# Expected output:\n",
    "# \"Few things in life are as urgent as house training your pet dinosaur.\n",
    "```"
   ]
  },
  {
   "cell_type": "code",
   "execution_count": 35,
   "metadata": {},
   "outputs": [],
   "source": [
    "advice = \"Few things in life are as important as house training your pet dinosaur.\"\n",
    "\n",
    "\n",
    "def replace_word_in_sentence(sentence, to_replace, replacement):\n",
    "    to_replace_idx = sentence.index(to_replace)\n",
    "    return sentence[:to_replace_idx] + replacement + sentence[to_replace_idx + len(to_replace):]\n",
    "\n",
    "\n",
    "assert replace_word_in_sentence(advice, \"important\", \"urgent\") == advice.replace(\"important\", \"urgent\")"
   ]
  }
 ],
 "metadata": {
  "kernelspec": {
   "display_name": ".venv",
   "language": "python",
   "name": "python3"
  },
  "language_info": {
   "codemirror_mode": {
    "name": "ipython",
    "version": 3
   },
   "file_extension": ".py",
   "mimetype": "text/x-python",
   "name": "python",
   "nbconvert_exporter": "python",
   "pygments_lexer": "ipython3",
   "version": "3.13.1"
  }
 },
 "nbformat": 4,
 "nbformat_minor": 2
}
