{
 "cells": [
  {
   "cell_type": "markdown",
   "metadata": {},
   "source": [
    "# Practice Problems: Easy 2\n",
    "Practice Problems for LS-PY101 Programming Foundations with Python: Basics"
   ]
  },
  {
   "cell_type": "markdown",
   "metadata": {},
   "source": [
    "## Question 1\n"
   ]
  },
  {
   "cell_type": "markdown",
   "metadata": {},
   "source": [
    "Write two distinct ways of reversing the list without mutating the original list.\n",
    "\n",
    "```python\n",
    "    numbers = [1, 2, 3, 4, 5]     # [5, 4, 3, 2, 1]\n",
    "```"
   ]
  },
  {
   "cell_type": "code",
   "execution_count": null,
   "metadata": {},
   "outputs": [],
   "source": [
    "numbers = [1, 2, 3, 4, 5]\n",
    "\n",
    "\n",
    "def reverse_list_with_loop(to_reverse):\n",
    "    return [to_reverse[idx] for idx in range(len(to_reverse) - 1, -1, -1)]\n",
    "\n",
    "\n",
    "def reverse_list_with_slicing(to_reverse):\n",
    "    return to_reverse[::-1]\n",
    "\n",
    "\n",
    "assert reverse_list_with_loop(numbers) == list(reversed(numbers))\n",
    "assert reverse_list_with_slicing(numbers) == list(reversed(numbers))"
   ]
  },
  {
   "cell_type": "markdown",
   "metadata": {},
   "source": [
    "## Question 2"
   ]
  },
  {
   "cell_type": "markdown",
   "metadata": {},
   "source": [
    "Given a number and a list, determine whether the number is included in the list.\n",
    "\n",
    "```python\n",
    "    numbers = [1, 2, 3, 4, 5, 15, 16, 17, 95, 96, 99]\n",
    "\n",
    "    number1 = 8  # False (not in numbers)\n",
    "    number2 = 95 # True (in numbers)\n",
    "```"
   ]
  },
  {
   "cell_type": "code",
   "execution_count": null,
   "metadata": {},
   "outputs": [],
   "source": [
    "numbers = [1, 2, 3, 4, 5, 15, 16, 17, 95, 96, 99]\n",
    "\n",
    "\n",
    "def num_in_list(num, list_to_search):\n",
    "    return num in list_to_search\n",
    "\n",
    "\n",
    "assert not num_in_list(8, numbers)\n",
    "assert num_in_list(95, numbers)"
   ]
  },
  {
   "cell_type": "markdown",
   "metadata": {},
   "source": [
    "## Question 3"
   ]
  },
  {
   "cell_type": "markdown",
   "metadata": {},
   "source": [
    "Programmatically determine whether 42 lies between 10 and 100, inclusive. Do the same for the values 100 and 101."
   ]
  },
  {
   "cell_type": "code",
   "execution_count": 22,
   "metadata": {},
   "outputs": [],
   "source": [
    "num_1 = 42\n",
    "num_2 = 100\n",
    "num_3 = 101\n",
    "\n",
    "\n",
    "def num_in_range(num, range_start, range_stop):\n",
    "    return num in range(range_start, range_stop + 1)\n",
    "\n",
    "\n",
    "assert num_in_range(num_1, 10, 100)\n",
    "assert num_in_range(num_2, 10, 100)\n",
    "assert not num_in_range(num_3, 10, 100)"
   ]
  },
  {
   "cell_type": "markdown",
   "metadata": {},
   "source": [
    "## Question 4"
   ]
  },
  {
   "cell_type": "markdown",
   "metadata": {},
   "source": [
    "Given a list of numbers [1, 2, 3, 4, 5], mutate the list by removing the number at index 2, so that the list becomes [1, 2, 4, 5]."
   ]
  },
  {
   "cell_type": "code",
   "execution_count": 23,
   "metadata": {},
   "outputs": [],
   "source": [
    "numbers = [1, 2, 3, 4, 5]\n",
    "\n",
    "\n",
    "def remove_elem_by_index(list_to_update, idx_to_remove):\n",
    "    del list_to_update[2]\n",
    "    return list_to_update\n",
    "\n",
    "\n",
    "assert remove_elem_by_index(numbers, 2) == [1, 2, 4, 5]"
   ]
  },
  {
   "cell_type": "markdown",
   "metadata": {},
   "source": [
    "## Question 5"
   ]
  },
  {
   "cell_type": "markdown",
   "metadata": {},
   "source": [
    "How would you verify whether the data structures assigned to the variables numbers and table are of type list?\n",
    "\n",
    "```python\n",
    "    numbers = [1, 2, 3, 4]\n",
    "    table = {'field1': 1, 'field2': 2, 'field3': 3, 'field4': 4}\n",
    "```"
   ]
  },
  {
   "cell_type": "code",
   "execution_count": 24,
   "metadata": {},
   "outputs": [],
   "source": [
    "numbers = [1, 2, 3, 4]\n",
    "table = {'field1': 1, 'field2': 2, 'field3': 3, 'field4': 4}\n",
    "\n",
    "\n",
    "def is_list(item):\n",
    "    return isinstance(item, list)\n",
    "\n",
    "\n",
    "assert is_list(numbers)\n",
    "assert not is_list(table)"
   ]
  },
  {
   "cell_type": "markdown",
   "metadata": {},
   "source": [
    "## Question 6"
   ]
  },
  {
   "cell_type": "markdown",
   "metadata": {},
   "source": [
    "Back in the stone age (before CSS), we used spaces to align things on the screen. If we have a 40-character wide table of Flintstone family members, how can we center the following title above the table with spaces?\n",
    "\n",
    "```python\n",
    "    title = \"Flintstone Family Members\"\n",
    "```\n"
   ]
  },
  {
   "cell_type": "code",
   "execution_count": null,
   "metadata": {},
   "outputs": [],
   "source": [
    "title = \"Flintstone Family Members\"\n",
    "\n",
    "\n",
    "def center_str_in_table(string, table_size):\n",
    "    padding_len = (table_size - len(string)) // 2\n",
    "    return_str = (\" \" * padding_len) + string + (\" \" * padding_len)\n",
    "    if len(return_str) == table_size - 1:\n",
    "        return_str += \" \"\n",
    "    return return_str\n",
    "\n",
    "\n",
    "assert center_str_in_table(title, 40) == title.center(40)"
   ]
  },
  {
   "cell_type": "markdown",
   "metadata": {},
   "source": [
    "## Question 7"
   ]
  },
  {
   "cell_type": "markdown",
   "metadata": {},
   "source": [
    "Write a one-liner to count the number of lower-case t characters in each of the following strings:\n",
    "\n",
    "```python\n",
    "    statement1 = \"The Flintstones Rock!\"\n",
    "    statement2 = \"Easy come, easy go.\"\n",
    "```"
   ]
  },
  {
   "cell_type": "code",
   "execution_count": 30,
   "metadata": {},
   "outputs": [],
   "source": [
    "statement1 = \"The Flintstones Rock!\"\n",
    "statement2 = \"Easy come, easy go.\"\n",
    "\n",
    "\n",
    "def count_char(statement, char):\n",
    "    return len([char for c in statement if c == char])\n",
    "\n",
    "\n",
    "assert count_char(statement1 , \"t\") == statement1.count(\"t\")\n",
    "assert count_char(statement2, \"t\") == statement2.count(\"t\")"
   ]
  },
  {
   "cell_type": "markdown",
   "metadata": {},
   "source": [
    "## Question 8"
   ]
  },
  {
   "cell_type": "markdown",
   "metadata": {},
   "source": [
    "\n",
    "Determine whether the following dictionary of people and their age contains an entry for 'Spot':\n",
    "\n",
    "```python\n",
    "    ages = {'Herman': 32, 'Lily': 30, 'Grandpa': 402, 'Eddie': 10}\n",
    "```\n"
   ]
  },
  {
   "cell_type": "code",
   "execution_count": 31,
   "metadata": {},
   "outputs": [],
   "source": [
    "ages = {'Herman': 32, 'Lily': 30, 'Grandpa': 402, 'Eddie': 10}\n",
    "\n",
    "\n",
    "def is_key_in_dict(key, dict_to_check):\n",
    "    return key in dict_to_check\n",
    "\n",
    "\n",
    "assert not is_key_in_dict(\"Spot\", ages)"
   ]
  },
  {
   "cell_type": "markdown",
   "metadata": {},
   "source": [
    "## Question 9"
   ]
  },
  {
   "cell_type": "markdown",
   "metadata": {},
   "source": [
    "We have most of the Munster family in our ages dictionary:\n",
    "\n",
    "```python\n",
    "    ages = {'Herman': 32, 'Lily': 30, 'Grandpa': 5843, 'Eddie': 10}\n",
    "```\n",
    "\n",
    "Add entries for Marilyn and Spot to the dictionary:\n",
    "\n",
    "```python\n",
    "    additional_ages = {'Marilyn': 22, 'Spot': 237}\n",
    "```"
   ]
  },
  {
   "cell_type": "code",
   "execution_count": 43,
   "metadata": {},
   "outputs": [],
   "source": [
    "ages = {'Herman': 32, 'Lily': 30, 'Grandpa': 5843, 'Eddie': 10}\n",
    "additional_ages = {'Marilyn': 22, 'Spot': 237}\n",
    "\n",
    "\n",
    "def combine_dicts(dict_1, dict_2):\n",
    "    dict_1.update(dict_2)\n",
    "    return dict_1\n",
    "\n",
    "\n",
    "assert combine_dicts(ages, additional_ages) == {'Herman': 32, 'Lily': 30, \n",
    "                                                'Grandpa': 5843, 'Eddie': 10,\n",
    "                                                'Marilyn': 22, 'Spot': 237}\n",
    "\n"
   ]
  }
 ],
 "metadata": {
  "kernelspec": {
   "display_name": ".venv",
   "language": "python",
   "name": "python3"
  },
  "language_info": {
   "codemirror_mode": {
    "name": "ipython",
    "version": 3
   },
   "file_extension": ".py",
   "mimetype": "text/x-python",
   "name": "python",
   "nbconvert_exporter": "python",
   "pygments_lexer": "ipython3",
   "version": "3.13.1"
  }
 },
 "nbformat": 4,
 "nbformat_minor": 2
}
