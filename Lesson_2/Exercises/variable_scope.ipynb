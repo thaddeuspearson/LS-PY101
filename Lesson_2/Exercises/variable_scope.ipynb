{
 "cells": [
  {
   "cell_type": "markdown",
   "metadata": {},
   "source": [
    "# Variable Scope\n",
    "A set of exercises exploring variable scope in python\n"
   ]
  },
  {
   "cell_type": "markdown",
   "metadata": {},
   "source": [
    "---\n",
    "## Question 1"
   ]
  },
  {
   "cell_type": "markdown",
   "metadata": {},
   "source": [
    "What will the following code print and why? *Don't run it until you have tried to answer.*\n"
   ]
  },
  {
   "cell_type": "code",
   "execution_count": null,
   "metadata": {},
   "outputs": [],
   "source": [
    "num = 5\n",
    "\n",
    "def my_func():\n",
    "    print(num)\n",
    "\n",
    "my_func()"
   ]
  },
  {
   "cell_type": "markdown",
   "metadata": {},
   "source": [
    "<details>\n",
    "<summary><b>Answer:</b></summary>\n",
    "<br>\n",
    "The variable `num` is initialized to 5 in the global scope and is accessible within the scope of the `my_func` function. When `my_func` is called, it prints `5`.\n",
    "</details>"
   ]
  },
  {
   "cell_type": "markdown",
   "metadata": {},
   "source": [
    "---\n",
    "## Question 2"
   ]
  },
  {
   "cell_type": "markdown",
   "metadata": {},
   "source": [
    "What will the following code print and why? *Don't run it until you have tried to answer.*"
   ]
  },
  {
   "cell_type": "code",
   "execution_count": null,
   "metadata": {},
   "outputs": [],
   "source": [
    "num = 5\n",
    "\n",
    "def my_func():\n",
    "    num = 10\n",
    "\n",
    "my_func()\n",
    "print(num)"
   ]
  },
  {
   "cell_type": "markdown",
   "metadata": {},
   "source": [
    "<details>\n",
    "<summary><b>Answer:</b></summary>\n",
    "<br>\n",
    "\n",
    "The variable `num` is initialized to `5` in the global scope. When `my_func` is called, it initializes a local variable also called `num` *(which shadows the global variable num)* and sets it's value to `10`. The print statement on the last line then prints `5`, as the original global variable `num` is in scope.\n",
    "</details>"
   ]
  },
  {
   "cell_type": "markdown",
   "metadata": {},
   "source": [
    "---\n",
    "## Question 3"
   ]
  },
  {
   "cell_type": "markdown",
   "metadata": {},
   "source": [
    "What will the following code print and why? *Don't run it until you have tried to answer.*"
   ]
  },
  {
   "cell_type": "code",
   "execution_count": null,
   "metadata": {},
   "outputs": [],
   "source": [
    "num = 5\n",
    "\n",
    "def my_func():\n",
    "    global num\n",
    "    num = 10\n",
    "\n",
    "my_func()\n",
    "print(num)"
   ]
  },
  {
   "cell_type": "markdown",
   "metadata": {},
   "source": [
    "\n",
    "<details>\n",
    "<summary><b>Answer:</b></summary>\n",
    "\n",
    "<br>\n",
    "\n",
    "The variable `num` is initialized to `5` in the global scope. When `my_func` is called, it references the globally scoped variable `num`. It then and sets it's value to `10`. The `print` statement on the last line then prints `10`, as the original global variable `num` has been reassigned by my_func.\n",
    "</details>"
   ]
  },
  {
   "cell_type": "markdown",
   "metadata": {},
   "source": [
    "---\n",
    "## Question 4"
   ]
  },
  {
   "cell_type": "markdown",
   "metadata": {},
   "source": [
    "What will the following code print and why? *Don't run it until you have tried to answer.*"
   ]
  },
  {
   "cell_type": "code",
   "execution_count": null,
   "metadata": {},
   "outputs": [],
   "source": [
    "def outer():\n",
    "    outer_var = 'Hello'\n",
    "\n",
    "    def inner():\n",
    "        inner_var = 'World'\n",
    "        print(outer_var, inner_var)\n",
    "\n",
    "    inner()\n",
    "\n",
    "outer()"
   ]
  },
  {
   "cell_type": "markdown",
   "metadata": {},
   "source": [
    " <details>\n",
    "<summary><b>Answer:</b></summary>\n",
    "<br>\n",
    "\n",
    "The `outer` funcunction initializes `outer_va`r and sets it's value to the string `\"Hello\"`. It then defines a nested function `inner`, within it's scope initializes another variable called `inner_var`, and sets it's value to the string `\"World\"`. When the function `outer` is executed, `inner` is also called, which prints `\"Hello World\"` using the variables`outer_var` *(which is accessable via lexical scope)* and `inner_var` *(which is a local variable)*. \n",
    "</details>"
   ]
  },
  {
   "cell_type": "markdown",
   "metadata": {},
   "source": [
    "---\n",
    "## Question 5"
   ]
  },
  {
   "cell_type": "markdown",
   "metadata": {},
   "source": [
    "What will the following code print and why? *Don't run it until you have tried to answer.*"
   ]
  },
  {
   "cell_type": "code",
   "execution_count": null,
   "metadata": {},
   "outputs": [],
   "source": [
    "def my_func():\n",
    "    num = 10\n",
    "\n",
    "my_func()\n",
    "print(num)"
   ]
  },
  {
   "cell_type": "markdown",
   "metadata": {},
   "source": [
    "<details>\n",
    "<summary><b>Answer:</b></summary>\n",
    "\n",
    "<br>\n",
    "\n",
    "The print statement on the last line will throw a `NameError` when executed, as the variable `num` is a local variable scoped within `my_func`. After `my_func` is called and execution finishes, `num` is not available in the global scope.\n",
    "</details>"
   ]
  },
  {
   "cell_type": "markdown",
   "metadata": {},
   "source": [
    "---\n",
    "## Question 6"
   ]
  },
  {
   "cell_type": "markdown",
   "metadata": {},
   "source": [
    "What will the following code print and why? *Don't run it until you have tried to answer.*"
   ]
  },
  {
   "cell_type": "code",
   "execution_count": null,
   "metadata": {},
   "outputs": [],
   "source": [
    "def my_func():\n",
    "    x = 15\n",
    "\n",
    "    def inner_func1():\n",
    "        x = 25\n",
    "        print(\"Inner 1:\", x)\n",
    "\n",
    "    def inner_func2():\n",
    "        print(\"Inner 2:\", x)\n",
    "\n",
    "    inner_func1()\n",
    "    inner_func2()\n",
    "\n",
    "my_func()"
   ]
  },
  {
   "cell_type": "markdown",
   "metadata": {},
   "source": [
    " <details>\n",
    "<summary><b>Answer:</b></summary>\n",
    "\n",
    "<br>\n",
    "\n",
    "Since `inner_func1` and `inner_func2` are both defined and executed within `my_func`, when `my_func` is executed, `inner_func1` will print `\"Inner 1: 25\"` and `inner_func_2` will print `\"Inner 2: 15\"`. `inner_func2` has access to `x` in lexical scope, where `x` is defined as 15 in `my_func`. In `inner_func1`, `x` is a local variable that is shadowing `x` in lexical scope, and it is assigned to 25 within `inner_func1`'s local scope.\n",
    "</details>"
   ]
  }
 ],
 "metadata": {
  "kernelspec": {
   "display_name": ".venv",
   "language": "python",
   "name": "python3"
  },
  "language_info": {
   "name": "python",
   "version": "3.13.1"
  }
 },
 "nbformat": 4,
 "nbformat_minor": 2
}
